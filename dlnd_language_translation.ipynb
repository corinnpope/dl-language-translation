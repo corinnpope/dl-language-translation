{
 "cells": [
  {
   "cell_type": "markdown",
   "metadata": {
    "collapsed": true,
    "deletable": true,
    "editable": true
   },
   "source": [
    "# Language Translation\n",
    "In this project, you’re going to take a peek into the realm of neural network machine translation.  You’ll be training a sequence to sequence model on a dataset of English and French sentences that can translate new sentences from English to French.\n",
    "## Get the Data\n",
    "Since translating the whole language of English to French will take lots of time to train, we have provided you with a small portion of the English corpus."
   ]
  },
  {
   "cell_type": "code",
   "execution_count": 1,
   "metadata": {
    "collapsed": false,
    "deletable": true,
    "editable": true
   },
   "outputs": [],
   "source": [
    "\"\"\"\n",
    "DON'T MODIFY ANYTHING IN THIS CELL\n",
    "\"\"\"\n",
    "import helper\n",
    "import problem_unittests as tests\n",
    "\n",
    "source_path = 'data/small_vocab_en'\n",
    "target_path = 'data/small_vocab_fr'\n",
    "source_text = helper.load_data(source_path)\n",
    "target_text = helper.load_data(target_path)"
   ]
  },
  {
   "cell_type": "markdown",
   "metadata": {
    "deletable": true,
    "editable": true
   },
   "source": [
    "## Explore the Data\n",
    "Play around with view_sentence_range to view different parts of the data."
   ]
  },
  {
   "cell_type": "code",
   "execution_count": 2,
   "metadata": {
    "collapsed": false,
    "deletable": true,
    "editable": true
   },
   "outputs": [
    {
     "name": "stdout",
     "output_type": "stream",
     "text": [
      "Dataset Stats\n",
      "Roughly the number of unique words: 227\n",
      "Number of sentences: 137861\n",
      "Average number of words in a sentence: 13.225277634719028\n",
      "\n",
      "English sentences 0 to 10:\n",
      "new jersey is sometimes quiet during autumn , and it is snowy in april .\n",
      "the united states is usually chilly during july , and it is usually freezing in november .\n",
      "california is usually quiet during march , and it is usually hot in june .\n",
      "the united states is sometimes mild during june , and it is cold in september .\n",
      "your least liked fruit is the grape , but my least liked is the apple .\n",
      "his favorite fruit is the orange , but my favorite is the grape .\n",
      "paris is relaxing during december , but it is usually chilly in july .\n",
      "new jersey is busy during spring , and it is never hot in march .\n",
      "our least liked fruit is the lemon , but my least liked is the grape .\n",
      "the united states is sometimes busy during january , and it is sometimes warm in november .\n",
      "\n",
      "French sentences 0 to 10:\n",
      "new jersey est parfois calme pendant l' automne , et il est neigeux en avril .\n",
      "les états-unis est généralement froid en juillet , et il gèle habituellement en novembre .\n",
      "california est généralement calme en mars , et il est généralement chaud en juin .\n",
      "les états-unis est parfois légère en juin , et il fait froid en septembre .\n",
      "votre moins aimé fruit est le raisin , mais mon moins aimé est la pomme .\n",
      "son fruit préféré est l'orange , mais mon préféré est le raisin .\n",
      "paris est relaxant en décembre , mais il est généralement froid en juillet .\n",
      "new jersey est occupé au printemps , et il est jamais chaude en mars .\n",
      "notre fruit est moins aimé le citron , mais mon moins aimé est le raisin .\n",
      "les états-unis est parfois occupé en janvier , et il est parfois chaud en novembre .\n"
     ]
    }
   ],
   "source": [
    "view_sentence_range = (0, 10)\n",
    "\n",
    "\"\"\"\n",
    "DON'T MODIFY ANYTHING IN THIS CELL\n",
    "\"\"\"\n",
    "import numpy as np\n",
    "\n",
    "print('Dataset Stats')\n",
    "print('Roughly the number of unique words: {}'.format(len({word: None for word in source_text.split()})))\n",
    "\n",
    "sentences = source_text.split('\\n')\n",
    "word_counts = [len(sentence.split()) for sentence in sentences]\n",
    "print('Number of sentences: {}'.format(len(sentences)))\n",
    "print('Average number of words in a sentence: {}'.format(np.average(word_counts)))\n",
    "\n",
    "print()\n",
    "print('English sentences {} to {}:'.format(*view_sentence_range))\n",
    "print('\\n'.join(source_text.split('\\n')[view_sentence_range[0]:view_sentence_range[1]]))\n",
    "print()\n",
    "print('French sentences {} to {}:'.format(*view_sentence_range))\n",
    "print('\\n'.join(target_text.split('\\n')[view_sentence_range[0]:view_sentence_range[1]]))"
   ]
  },
  {
   "cell_type": "markdown",
   "metadata": {
    "deletable": true,
    "editable": true
   },
   "source": [
    "## Implement Preprocessing Function\n",
    "### Text to Word Ids\n",
    "As you did with other RNNs, you must turn the text into a number so the computer can understand it. In the function `text_to_ids()`, you'll turn `source_text` and `target_text` from words to ids.  However, you need to add the `<EOS>` word id at the end of each sentence from `target_text`.  This will help the neural network predict when the sentence should end.\n",
    "\n",
    "You can get the `<EOS>` word id by doing:\n",
    "```python\n",
    "target_vocab_to_int['<EOS>']\n",
    "```\n",
    "You can get other word ids using `source_vocab_to_int` and `target_vocab_to_int`."
   ]
  },
  {
   "cell_type": "code",
   "execution_count": 3,
   "metadata": {
    "collapsed": false,
    "deletable": true,
    "editable": true
   },
   "outputs": [
    {
     "name": "stdout",
     "output_type": "stream",
     "text": [
      "Tests Passed\n"
     ]
    }
   ],
   "source": [
    "def text_to_ids(source_text, target_text, source_vocab_to_int, target_vocab_to_int):\n",
    "    \"\"\"\n",
    "    Convert source and target text to proper word ids\n",
    "    :param source_text: String that contains all the source text.\n",
    "    :param target_text: String that contains all the target text.\n",
    "    :param source_vocab_to_int: Dictionary to go from the source words to an id\n",
    "    :param target_vocab_to_int: Dictionary to go from the target words to an id\n",
    "    :return: A tuple of lists (source_id_text, target_id_text)\n",
    "    \"\"\"\n",
    "    # TODO: Implement Function\n",
    "    # convert words to IDs\n",
    "    # add the <EOS> word id at the end of each sentence from target_text\n",
    "    # turn source_text and target_text from words to ids\n",
    "    \n",
    "    source_id_text = [[source_vocab_to_int[word] for word in line.split()]\n",
    "                      for line in source_text.split('\\n')]\n",
    "    \n",
    "    target_id_text_pre = [[target_vocab_to_int[word] for word in line.split()]\n",
    "                      for line in target_text.split('\\n')]\n",
    "    \n",
    "    #add <EOS> to the end of every sentence in the target\n",
    "    end_of_sentence = target_vocab_to_int['<EOS>']\n",
    "    target_id_text = [line + [end_of_sentence] for line in target_id_text_pre]\n",
    "    \n",
    "    return source_id_text, target_id_text\n",
    "\n",
    "\"\"\"\n",
    "DON'T MODIFY ANYTHING IN THIS CELL THAT IS BELOW THIS LINE\n",
    "\"\"\"\n",
    "tests.test_text_to_ids(text_to_ids)"
   ]
  },
  {
   "cell_type": "markdown",
   "metadata": {
    "deletable": true,
    "editable": true
   },
   "source": [
    "### Preprocess all the data and save it\n",
    "Running the code cell below will preprocess all the data and save it to file."
   ]
  },
  {
   "cell_type": "code",
   "execution_count": 4,
   "metadata": {
    "collapsed": false,
    "deletable": true,
    "editable": true
   },
   "outputs": [],
   "source": [
    "\"\"\"\n",
    "DON'T MODIFY ANYTHING IN THIS CELL\n",
    "\"\"\"\n",
    "helper.preprocess_and_save_data(source_path, target_path, text_to_ids)"
   ]
  },
  {
   "cell_type": "markdown",
   "metadata": {
    "deletable": true,
    "editable": true
   },
   "source": [
    "# Check Point\n",
    "This is your first checkpoint. If you ever decide to come back to this notebook or have to restart the notebook, you can start from here. The preprocessed data has been saved to disk."
   ]
  },
  {
   "cell_type": "code",
   "execution_count": 5,
   "metadata": {
    "collapsed": false,
    "deletable": true,
    "editable": true
   },
   "outputs": [],
   "source": [
    "\"\"\"\n",
    "DON'T MODIFY ANYTHING IN THIS CELL\n",
    "\"\"\"\n",
    "import numpy as np\n",
    "import helper\n",
    "\n",
    "(source_int_text, target_int_text), (source_vocab_to_int, target_vocab_to_int), _ = helper.load_preprocess()"
   ]
  },
  {
   "cell_type": "markdown",
   "metadata": {
    "deletable": true,
    "editable": true
   },
   "source": [
    "### Check the Version of TensorFlow and Access to GPU\n",
    "This will check to make sure you have the correct version of TensorFlow and access to a GPU"
   ]
  },
  {
   "cell_type": "code",
   "execution_count": 6,
   "metadata": {
    "collapsed": false,
    "deletable": true,
    "editable": true
   },
   "outputs": [
    {
     "name": "stdout",
     "output_type": "stream",
     "text": [
      "TensorFlow Version: 1.0.0\n",
      "Default GPU Device: /gpu:0\n"
     ]
    }
   ],
   "source": [
    "\"\"\"\n",
    "DON'T MODIFY ANYTHING IN THIS CELL\n",
    "\"\"\"\n",
    "from distutils.version import LooseVersion\n",
    "import warnings\n",
    "import tensorflow as tf\n",
    "\n",
    "# Check TensorFlow Version\n",
    "assert LooseVersion(tf.__version__) == LooseVersion('1.0.0'), 'This project requires TensorFlow version 1.0  You are using {}'.format(tf.__version__)\n",
    "print('TensorFlow Version: {}'.format(tf.__version__))\n",
    "\n",
    "# Check for a GPU\n",
    "if not tf.test.gpu_device_name():\n",
    "    warnings.warn('No GPU found. Please use a GPU to train your neural network.')\n",
    "else:\n",
    "    print('Default GPU Device: {}'.format(tf.test.gpu_device_name()))"
   ]
  },
  {
   "cell_type": "markdown",
   "metadata": {
    "deletable": true,
    "editable": true
   },
   "source": [
    "## Build the Neural Network\n",
    "You'll build the components necessary to build a Sequence-to-Sequence model by implementing the following functions below:\n",
    "- `model_inputs`\n",
    "- `process_decoding_input`\n",
    "- `encoding_layer`\n",
    "- `decoding_layer_train`\n",
    "- `decoding_layer_infer`\n",
    "- `decoding_layer`\n",
    "- `seq2seq_model`\n",
    "\n",
    "### Input\n",
    "Implement the `model_inputs()` function to create TF Placeholders for the Neural Network. It should create the following placeholders:\n",
    "\n",
    "- Input text placeholder named \"input\" using the TF Placeholder name parameter with rank 2.\n",
    "- Targets placeholder with rank 2.\n",
    "- Learning rate placeholder with rank 0.\n",
    "- Keep probability placeholder named \"keep_prob\" using the TF Placeholder name parameter with rank 0.\n",
    "\n",
    "Return the placeholders in the following the tuple (Input, Targets, Learing Rate, Keep Probability)"
   ]
  },
  {
   "cell_type": "code",
   "execution_count": 7,
   "metadata": {
    "collapsed": false,
    "deletable": true,
    "editable": true
   },
   "outputs": [
    {
     "name": "stdout",
     "output_type": "stream",
     "text": [
      "Tests Passed\n"
     ]
    }
   ],
   "source": [
    "def model_inputs():\n",
    "    \"\"\"\n",
    "    Create TF Placeholders for input, targets, and learning rate.\n",
    "    :return: Tuple (input, targets, learning rate, keep probability)\n",
    "    \"\"\"\n",
    "\n",
    "    # create TF placeholders - input placeholder, targets placeholder, lr placeholder, keep prob p.h\n",
    "    # inputs and targets are ints, learning rate and keep prob are floats\n",
    "    # rank 2 tensor just a fancy way of saying a matrix that can access eleents with t[i,j]\n",
    "    input = tf.placeholder(tf.int32, [None, None], name=\"input\")\n",
    "    targets = tf.placeholder(tf.int32, [None, None])\n",
    "    learning_rate = tf.placeholder(tf.float32)\n",
    "    keep_prob = tf.placeholder(tf.float32, name=\"keep_prob\")\n",
    "    \n",
    "    return input, targets, learning_rate, keep_prob\n",
    "\n",
    "\"\"\"\n",
    "DON'T MODIFY ANYTHING IN THIS CELL THAT IS BELOW THIS LINE\n",
    "\"\"\"\n",
    "tests.test_model_inputs(model_inputs)"
   ]
  },
  {
   "cell_type": "markdown",
   "metadata": {
    "deletable": true,
    "editable": true
   },
   "source": [
    "### Process Decoding Input\n",
    "Implement `process_decoding_input` using TensorFlow to remove the last word id from each batch in `target_data` and concat the GO ID to the begining of each batch."
   ]
  },
  {
   "cell_type": "code",
   "execution_count": 8,
   "metadata": {
    "collapsed": false,
    "deletable": true,
    "editable": true
   },
   "outputs": [
    {
     "name": "stdout",
     "output_type": "stream",
     "text": [
      "target data shape: (2, 3)\n",
      "sliced data: Tensor(\"StridedSlice:0\", shape=(2, 2), dtype=int32)\n",
      "Tests Passed\n"
     ]
    }
   ],
   "source": [
    "def process_decoding_input(target_data, target_vocab_to_int, batch_size):\n",
    "    \"\"\"\n",
    "    Preprocess target data for dencoding\n",
    "    :param target_data: Target Placehoder\n",
    "    :param target_vocab_to_int: Dictionary to go from the target words to an id\n",
    "    :param batch_size: Batch Size\n",
    "    :return: Preprocessed target data\n",
    "    \"\"\"\n",
    "    # remove last word id from each batch in target_dta\n",
    "    # a quick google on how to remove last item in tensorflow finds https://github.com/tensorflow/tensorflow/issues/2309\n",
    "    # suggests using tf.strided_slice - begin at 0 , end at batch size - 1, strides 1,1\n",
    "    print(\"target data shape:\", target_data.shape)\n",
    "    sliced_target_data = tf.strided_slice(target_data, [0,0], [batch_size, -1], [1,1]) \n",
    "    \n",
    "    # concatenate the GO id to the beginning of each batch\n",
    "    print(\"sliced data:\", sliced_target_data)\n",
    "    concat_data = tf.concat([tf.fill([batch_size, 1], target_vocab_to_int['<GO>']), sliced_target_data], 1)\n",
    "    \n",
    "    return concat_data\n",
    "\n",
    "\"\"\"\n",
    "DON'T MODIFY ANYTHING IN THIS CELL THAT IS BELOW THIS LINE\n",
    "\"\"\"\n",
    "tests.test_process_decoding_input(process_decoding_input)"
   ]
  },
  {
   "cell_type": "markdown",
   "metadata": {
    "deletable": true,
    "editable": true
   },
   "source": [
    "### Encoding\n",
    "Implement `encoding_layer()` to create a Encoder RNN layer using [`tf.nn.dynamic_rnn()`](https://www.tensorflow.org/api_docs/python/tf/nn/dynamic_rnn)."
   ]
  },
  {
   "cell_type": "code",
   "execution_count": 9,
   "metadata": {
    "collapsed": false,
    "deletable": true,
    "editable": true
   },
   "outputs": [
    {
     "name": "stdout",
     "output_type": "stream",
     "text": [
      "Tests Passed\n"
     ]
    }
   ],
   "source": [
    "def encoding_layer(rnn_inputs, rnn_size, num_layers, keep_prob):\n",
    "    \"\"\"\n",
    "    Create encoding layer\n",
    "    :param rnn_inputs: Inputs for the RNN\n",
    "    :param rnn_size: RNN Size\n",
    "    :param num_layers: Number of layers\n",
    "    :param keep_prob: Dropout keep probability\n",
    "    :return: RNN state\n",
    "    \"\"\"\n",
    "\n",
    "    # create a LSTM cell\n",
    "    lstm = tf.contrib.rnn.BasicLSTMCell(rnn_size)\n",
    "    drop = tf.contrib.rnn.DropoutWrapper(lstm, output_keep_prob=keep_prob)\n",
    "    cell = tf.contrib.rnn.MultiRNNCell([drop] * num_layers)\n",
    "    \n",
    "    # if no initial_state is provided, dtype must be\n",
    "    _, rnn_state = tf.nn.dynamic_rnn(cell, rnn_inputs, dtype = tf.float32)\n",
    "    # what is _? print(_) #returns Tensor(\"rnn/transpose:0\", shape=(64, 22, 512), dtype=float32)\n",
    "    \n",
    "    return rnn_state\n",
    "\n",
    "\"\"\"\n",
    "DON'T MODIFY ANYTHING IN THIS CELL THAT IS BELOW THIS LINE\n",
    "\"\"\"\n",
    "tests.test_encoding_layer(encoding_layer)"
   ]
  },
  {
   "cell_type": "markdown",
   "metadata": {
    "deletable": true,
    "editable": true
   },
   "source": [
    "### Decoding - Training\n",
    "Create training logits using [`tf.contrib.seq2seq.simple_decoder_fn_train()`](https://www.tensorflow.org/api_docs/python/tf/contrib/seq2seq/simple_decoder_fn_train) and [`tf.contrib.seq2seq.dynamic_rnn_decoder()`](https://www.tensorflow.org/api_docs/python/tf/contrib/seq2seq/dynamic_rnn_decoder).  Apply the `output_fn` to the [`tf.contrib.seq2seq.dynamic_rnn_decoder()`](https://www.tensorflow.org/api_docs/python/tf/contrib/seq2seq/dynamic_rnn_decoder) outputs."
   ]
  },
  {
   "cell_type": "code",
   "execution_count": 10,
   "metadata": {
    "collapsed": false,
    "deletable": true,
    "editable": true
   },
   "outputs": [
    {
     "name": "stdout",
     "output_type": "stream",
     "text": [
      "Tests Passed\n"
     ]
    }
   ],
   "source": [
    "def decoding_layer_train(encoder_state, dec_cell, dec_embed_input, sequence_length, decoding_scope,\n",
    "                         output_fn, keep_prob):\n",
    "    \"\"\"\n",
    "    Create a decoding layer for training\n",
    "    :param encoder_state: Encoder State\n",
    "    :param dec_cell: Decoder RNN Cell\n",
    "    :param dec_embed_input: Decoder embedded input\n",
    "    :param sequence_length: Sequence Length\n",
    "    :param decoding_scope: TenorFlow Variable Scope for decoding\n",
    "    :param output_fn: Function to apply the output layer\n",
    "    :param keep_prob: Dropout keep probability\n",
    "    :return: Train Logits\n",
    "    \"\"\"\n",
    "    # TypeError: unorderable types: VariableScope() < int()??? --> must use scope=\n",
    "    \n",
    "    decoder_func = tf.contrib.seq2seq.simple_decoder_fn_train(encoder_state)\n",
    "    outputs, _, _ =  tf.contrib.seq2seq.dynamic_rnn_decoder(\n",
    "                                                            dec_cell,\n",
    "                                                            decoder_func,\n",
    "                                                            dec_embed_input,\n",
    "                                                            sequence_length,\n",
    "                                                            scope = decoding_scope\n",
    "                                                           )\n",
    "    return output_fn(outputs)\n",
    "\n",
    "\n",
    "\"\"\"\n",
    "DON'T MODIFY ANYTHING IN THIS CELL THAT IS BELOW THIS LINE\n",
    "\"\"\"\n",
    "tests.test_decoding_layer_train(decoding_layer_train)"
   ]
  },
  {
   "cell_type": "markdown",
   "metadata": {
    "deletable": true,
    "editable": true
   },
   "source": [
    "### Decoding - Inference\n",
    "Create inference logits using [`tf.contrib.seq2seq.simple_decoder_fn_inference()`](https://www.tensorflow.org/api_docs/python/tf/contrib/seq2seq/simple_decoder_fn_inference) and [`tf.contrib.seq2seq.dynamic_rnn_decoder()`](https://www.tensorflow.org/api_docs/python/tf/contrib/seq2seq/dynamic_rnn_decoder). "
   ]
  },
  {
   "cell_type": "code",
   "execution_count": 11,
   "metadata": {
    "collapsed": false,
    "deletable": true,
    "editable": true
   },
   "outputs": [
    {
     "name": "stdout",
     "output_type": "stream",
     "text": [
      "Tests Passed\n"
     ]
    }
   ],
   "source": [
    "def decoding_layer_infer(encoder_state, dec_cell, dec_embeddings, start_of_sequence_id, end_of_sequence_id,\n",
    "                         maximum_length, vocab_size, decoding_scope, output_fn, keep_prob):\n",
    "    \"\"\"\n",
    "    Create a decoding layer for inference\n",
    "    :param encoder_state: Encoder state\n",
    "    :param dec_cell: Decoder RNN Cell\n",
    "    :param dec_embeddings: Decoder embeddings\n",
    "    :param start_of_sequence_id: GO ID\n",
    "    :param end_of_sequence_id: EOS Id\n",
    "    :param maximum_length: The maximum allowed time steps to decode\n",
    "    :param vocab_size: Size of vocabulary\n",
    "    :param decoding_scope: TensorFlow Variable Scope for decoding\n",
    "    :param output_fn: Function to apply the output layer\n",
    "    :param keep_prob: Dropout keep probability\n",
    "    :return: Inference Logits\n",
    "    \"\"\"\n",
    "    # num_decoder_symbols=vocab_size\n",
    "    decoder_inference = tf.contrib.seq2seq.simple_decoder_fn_inference(\n",
    "                                                                       output_fn,\n",
    "                                                                       encoder_state,\n",
    "                                                                       dec_embeddings,\n",
    "                                                                       start_of_sequence_id,\n",
    "                                                                       end_of_sequence_id,\n",
    "                                                                       maximum_length,\n",
    "                                                                       vocab_size\n",
    "                                                                        )\n",
    "    \n",
    "    inference_logits, _, _ = tf.contrib.seq2seq.dynamic_rnn_decoder(dec_cell,\n",
    "                                                               decoder_inference,\n",
    "                                                               scope=decoding_scope,\n",
    "                                                               )\n",
    "    \n",
    "                                                   \n",
    "    return inference_logits\n",
    "\n",
    "\n",
    "\"\"\"\n",
    "DON'T MODIFY ANYTHING IN THIS CELL THAT IS BELOW THIS LINE\n",
    "\"\"\"\n",
    "tests.test_decoding_layer_infer(decoding_layer_infer)"
   ]
  },
  {
   "cell_type": "markdown",
   "metadata": {
    "deletable": true,
    "editable": true
   },
   "source": [
    "### Build the Decoding Layer\n",
    "Implement `decoding_layer()` to create a Decoder RNN layer.\n",
    "\n",
    "- Create RNN cell for decoding using `rnn_size` and `num_layers`.\n",
    "- Create the output fuction using [`lambda`](https://docs.python.org/3/tutorial/controlflow.html#lambda-expressions) to transform it's input, logits, to class logits.\n",
    "- Use the your `decoding_layer_train(encoder_state, dec_cell, dec_embed_input, sequence_length, decoding_scope, output_fn, keep_prob)` function to get the training logits.\n",
    "- Use your `decoding_layer_infer(encoder_state, dec_cell, dec_embeddings, start_of_sequence_id, end_of_sequence_id, maximum_length, vocab_size, decoding_scope, output_fn, keep_prob)` function to get the inference logits.\n",
    "\n",
    "Note: You'll need to use [tf.variable_scope](https://www.tensorflow.org/api_docs/python/tf/variable_scope) to share variables between training and inference."
   ]
  },
  {
   "cell_type": "code",
   "execution_count": 22,
   "metadata": {
    "collapsed": false,
    "deletable": true,
    "editable": true
   },
   "outputs": [
    {
     "name": "stdout",
     "output_type": "stream",
     "text": [
      "Tests Passed\n"
     ]
    }
   ],
   "source": [
    "def decoding_layer(dec_embed_input, dec_embeddings, encoder_state, vocab_size, sequence_length, rnn_size,\n",
    "                   num_layers, target_vocab_to_int, keep_prob):\n",
    "    \"\"\"\n",
    "    Create decoding layer\n",
    "    :param dec_embed_input: Decoder embedded input\n",
    "    :param dec_embeddings: Decoder embeddings\n",
    "    :param encoder_state: The encoded state\n",
    "    :param vocab_size: Size of vocabulary\n",
    "    :param sequence_length: Sequence Length\n",
    "    :param rnn_size: RNN Size\n",
    "    :param num_layers: Number of layers\n",
    "    :param target_vocab_to_int: Dictionary to go from the target words to an id\n",
    "    :param keep_prob: Dropout keep probability\n",
    "    :return: Tuple of (Training Logits, Inference Logits)\n",
    "    \"\"\"\n",
    "    \n",
    "    with tf.variable_scope(\"decoding\") as decoding_scope:\n",
    "        # create rnn cell\n",
    "        decoding_cell = tf.contrib.rnn.MultiRNNCell([tf.contrib.rnn.BasicLSTMCell(rnn_size)] * num_layers)\n",
    "        \n",
    "        #transform to class logits\n",
    "        output_fn = lambda x: tf.contrib.layers.fully_connected(\n",
    "                                                                x,\n",
    "                                                                vocab_size,\n",
    "                                                                None,\n",
    "                                                                scope=decoding_scope\n",
    "                                                                )\n",
    "        \n",
    "        # get training logits\n",
    "        training_logits = decoding_layer_train(\n",
    "                                                encoder_state,\n",
    "                                                decoding_cell,\n",
    "                                                dec_embed_input,\n",
    "                                                sequence_length,\n",
    "                                                decoding_scope,\n",
    "                                                output_fn,\n",
    "                                                keep_prob\n",
    "                                                )\n",
    "\n",
    "    #get inference logits\n",
    "    # Variable decoding/multi_rnn_cell/cell_0/basic_lstm_cell/weights already exists, disallowed.\n",
    "    # Did you mean to set reuse=True in VarScope? Yes, I did.\n",
    "    with tf.variable_scope(\"decoding\", reuse=True) as decoding_scope:\n",
    "        inference_logits = decoding_layer_infer(\n",
    "                                                encoder_state,\n",
    "                                                decoding_cell,\n",
    "                                                dec_embeddings,\n",
    "                                                target_vocab_to_int['<GO>'],\n",
    "                                                target_vocab_to_int['<EOS>'],\n",
    "                                                sequence_length,\n",
    "                                                vocab_size,\n",
    "                                                decoding_scope,\n",
    "                                                output_fn,\n",
    "                                                keep_prob\n",
    "                                                )\n",
    "    \n",
    "    return training_logits, inference_logits\n",
    "\n",
    "\"\"\"\n",
    "DON'T MODIFY ANYTHING IN THIS CELL THAT IS BELOW THIS LINE\n",
    "\"\"\"\n",
    "tests.test_decoding_layer(decoding_layer)"
   ]
  },
  {
   "cell_type": "markdown",
   "metadata": {
    "deletable": true,
    "editable": true
   },
   "source": [
    "### Build the Neural Network\n",
    "Apply the functions you implemented above to:\n",
    "\n",
    "- Apply embedding to the input data for the encoder.\n",
    "- Encode the input using your `encoding_layer(rnn_inputs, rnn_size, num_layers, keep_prob)`.\n",
    "- Process target data using your `process_decoding_input(target_data, target_vocab_to_int, batch_size)` function.\n",
    "- Apply embedding to the target data for the decoder.\n",
    "- Decode the encoded input using your `decoding_layer(dec_embed_input, dec_embeddings, encoder_state, vocab_size, sequence_length, rnn_size, num_layers, target_vocab_to_int, keep_prob)`."
   ]
  },
  {
   "cell_type": "code",
   "execution_count": 26,
   "metadata": {
    "collapsed": false,
    "deletable": true,
    "editable": true
   },
   "outputs": [
    {
     "name": "stdout",
     "output_type": "stream",
     "text": [
      "target data shape: (64, 22)\n",
      "sliced data: Tensor(\"StridedSlice:0\", shape=(64, 21), dtype=int32)\n",
      "Tests Passed\n"
     ]
    }
   ],
   "source": [
    "def seq2seq_model(input_data, target_data, keep_prob, batch_size, sequence_length, source_vocab_size, target_vocab_size,\n",
    "                  enc_embedding_size, dec_embedding_size, rnn_size, num_layers, target_vocab_to_int):\n",
    "    \"\"\"\n",
    "    Build the Sequence-to-Sequence part of the neural network\n",
    "    :param input_data: Input placeholder\n",
    "    :param target_data: Target placeholder\n",
    "    :param keep_prob: Dropout keep probability placeholder\n",
    "    :param batch_size: Batch Size\n",
    "    :param sequence_length: Sequence Length\n",
    "    :param source_vocab_size: Source vocabulary size\n",
    "    :param target_vocab_size: Target vocabulary size\n",
    "    :param enc_embedding_size: Decoder embedding size\n",
    "    :param dec_embedding_size: Encoder embedding size\n",
    "    :param rnn_size: RNN Size\n",
    "    :param num_layers: Number of layers\n",
    "    :param target_vocab_to_int: Dictionary to go from the target words to an id\n",
    "    :return: Tuple of (Training Logits, Inference Logits)\n",
    "    \"\"\"\n",
    "    # build the seq2seq model\n",
    "    # map the sequence(input_data) to a sequence of embeddings\n",
    "    embed_input = tf.contrib.layers.embed_sequence(input_data, source_vocab_size, enc_embedding_size)\n",
    "    \n",
    "    # encode the input using encoding_layer()\n",
    "    encoded_state = encoding_layer(embed_input, rnn_size, num_layers, keep_prob)\n",
    "    \n",
    "    # process target data with process_decoding_input()\n",
    "    processed_target_data = process_decoding_input(target_data, target_vocab_to_int, batch_size)\n",
    "    \n",
    "    # apply embeddings to target data\n",
    "    dec_embeddings = tf.Variable(tf.random_uniform([target_vocab_size, dec_embedding_size]))\n",
    "    dec_embed_input = tf.nn.embedding_lookup(dec_embeddings, processed_target_data)\n",
    "    \n",
    "    # decode encoded input with decoding_layer()\n",
    "    decoded = decoding_layer(\n",
    "                           dec_embed_input,\n",
    "                           dec_embeddings,\n",
    "                           encoded_state,\n",
    "                           target_vocab_size,\n",
    "                           sequence_length,\n",
    "                           rnn_size,\n",
    "                           num_layers,\n",
    "                           target_vocab_to_int,\n",
    "                           keep_prob\n",
    "                           )\n",
    "    \n",
    "    return decoded\n",
    "\n",
    "\n",
    "\"\"\"\n",
    "DON'T MODIFY ANYTHING IN THIS CELL THAT IS BELOW THIS LINE\n",
    "\"\"\"\n",
    "tests.test_seq2seq_model(seq2seq_model)"
   ]
  },
  {
   "cell_type": "markdown",
   "metadata": {
    "deletable": true,
    "editable": true
   },
   "source": [
    "## Neural Network Training\n",
    "### Hyperparameters\n",
    "Tune the following parameters:\n",
    "\n",
    "- Set `epochs` to the number of epochs.\n",
    "- Set `batch_size` to the batch size.\n",
    "- Set `rnn_size` to the size of the RNNs.\n",
    "- Set `num_layers` to the number of layers.\n",
    "- Set `encoding_embedding_size` to the size of the embedding for the encoder.\n",
    "- Set `decoding_embedding_size` to the size of the embedding for the decoder.\n",
    "- Set `learning_rate` to the learning rate.\n",
    "- Set `keep_probability` to the Dropout keep probability"
   ]
  },
  {
   "cell_type": "code",
   "execution_count": 45,
   "metadata": {
    "collapsed": true,
    "deletable": true,
    "editable": true
   },
   "outputs": [],
   "source": [
    "# Number of Epochs\n",
    "epochs = 3\n",
    "# Batch Size\n",
    "batch_size = 1024\n",
    "# RNN Size\n",
    "rnn_size = 512\n",
    "# Number of Layers\n",
    "num_layers = 2\n",
    "# Embedding Size\n",
    "encoding_embedding_size = 256\n",
    "decoding_embedding_size = 256\n",
    "# Learning Rate\n",
    "learning_rate = 0.01\n",
    "# Dropout Keep Probability\n",
    "keep_probability = 0.9"
   ]
  },
  {
   "cell_type": "markdown",
   "metadata": {
    "deletable": true,
    "editable": true
   },
   "source": [
    "### Build the Graph\n",
    "Build the graph using the neural network you implemented."
   ]
  },
  {
   "cell_type": "code",
   "execution_count": 46,
   "metadata": {
    "collapsed": false,
    "deletable": true,
    "editable": true
   },
   "outputs": [
    {
     "name": "stdout",
     "output_type": "stream",
     "text": [
      "target data shape: (?, ?)\n",
      "sliced data: Tensor(\"StridedSlice:0\", shape=(?, ?), dtype=int32)\n"
     ]
    }
   ],
   "source": [
    "\"\"\"\n",
    "DON'T MODIFY ANYTHING IN THIS CELL\n",
    "\"\"\"\n",
    "save_path = 'checkpoints/dev'\n",
    "(source_int_text, target_int_text), (source_vocab_to_int, target_vocab_to_int), _ = helper.load_preprocess()\n",
    "max_source_sentence_length = max([len(sentence) for sentence in source_int_text])\n",
    "\n",
    "train_graph = tf.Graph()\n",
    "with train_graph.as_default():\n",
    "    input_data, targets, lr, keep_prob = model_inputs()\n",
    "    sequence_length = tf.placeholder_with_default(max_source_sentence_length, None, name='sequence_length')\n",
    "    input_shape = tf.shape(input_data)\n",
    "    \n",
    "    train_logits, inference_logits = seq2seq_model(\n",
    "        tf.reverse(input_data, [-1]), targets, keep_prob, batch_size, sequence_length, len(source_vocab_to_int), len(target_vocab_to_int),\n",
    "        encoding_embedding_size, decoding_embedding_size, rnn_size, num_layers, target_vocab_to_int)\n",
    "\n",
    "    tf.identity(inference_logits, 'logits')\n",
    "    with tf.name_scope(\"optimization\"):\n",
    "        # Loss function\n",
    "        cost = tf.contrib.seq2seq.sequence_loss(\n",
    "            train_logits,\n",
    "            targets,\n",
    "            tf.ones([input_shape[0], sequence_length]))\n",
    "\n",
    "        # Optimizer\n",
    "        optimizer = tf.train.AdamOptimizer(lr)\n",
    "\n",
    "        # Gradient Clipping\n",
    "        gradients = optimizer.compute_gradients(cost)\n",
    "        capped_gradients = [(tf.clip_by_value(grad, -1., 1.), var) for grad, var in gradients if grad is not None]\n",
    "        train_op = optimizer.apply_gradients(capped_gradients)"
   ]
  },
  {
   "cell_type": "markdown",
   "metadata": {
    "deletable": true,
    "editable": true
   },
   "source": [
    "### Train\n",
    "Train the neural network on the preprocessed data. If you have a hard time getting a good loss, check the forms to see if anyone is having the same problem."
   ]
  },
  {
   "cell_type": "code",
   "execution_count": 47,
   "metadata": {
    "collapsed": false,
    "deletable": true,
    "editable": true,
    "scrolled": true
   },
   "outputs": [
    {
     "name": "stdout",
     "output_type": "stream",
     "text": [
      "Epoch   0 Batch    0/134 - Train Accuracy:  0.267, Validation Accuracy:  0.310, Loss:  5.878\n",
      "Epoch   0 Batch    1/134 - Train Accuracy:  0.171, Validation Accuracy:  0.243, Loss:  6.751\n",
      "Epoch   0 Batch    2/134 - Train Accuracy:  0.274, Validation Accuracy:  0.310, Loss:  3.911\n",
      "Epoch   0 Batch    3/134 - Train Accuracy:  0.183, Validation Accuracy:  0.220, Loss:  3.833\n",
      "Epoch   0 Batch    4/134 - Train Accuracy:  0.205, Validation Accuracy:  0.240, Loss:  3.809\n",
      "Epoch   0 Batch    5/134 - Train Accuracy:  0.309, Validation Accuracy:  0.341, Loss:  3.778\n",
      "Epoch   0 Batch    6/134 - Train Accuracy:  0.330, Validation Accuracy:  0.332, Loss:  3.511\n",
      "Epoch   0 Batch    7/134 - Train Accuracy:  0.307, Validation Accuracy:  0.346, Loss:  3.657\n",
      "Epoch   0 Batch    8/134 - Train Accuracy:  0.305, Validation Accuracy:  0.346, Loss:  3.419\n",
      "Epoch   0 Batch    9/134 - Train Accuracy:  0.345, Validation Accuracy:  0.348, Loss:  3.126\n",
      "Epoch   0 Batch   10/134 - Train Accuracy:  0.310, Validation Accuracy:  0.341, Loss:  3.297\n",
      "Epoch   0 Batch   11/134 - Train Accuracy:  0.312, Validation Accuracy:  0.340, Loss:  3.214\n",
      "Epoch   0 Batch   12/134 - Train Accuracy:  0.352, Validation Accuracy:  0.352, Loss:  3.032\n",
      "Epoch   0 Batch   13/134 - Train Accuracy:  0.315, Validation Accuracy:  0.356, Loss:  3.098\n",
      "Epoch   0 Batch   14/134 - Train Accuracy:  0.324, Validation Accuracy:  0.361, Loss:  3.034\n",
      "Epoch   0 Batch   15/134 - Train Accuracy:  0.336, Validation Accuracy:  0.371, Loss:  3.013\n",
      "Epoch   0 Batch   16/134 - Train Accuracy:  0.344, Validation Accuracy:  0.375, Loss:  2.924\n",
      "Epoch   0 Batch   17/134 - Train Accuracy:  0.353, Validation Accuracy:  0.382, Loss:  2.920\n",
      "Epoch   0 Batch   18/134 - Train Accuracy:  0.353, Validation Accuracy:  0.384, Loss:  2.895\n",
      "Epoch   0 Batch   19/134 - Train Accuracy:  0.348, Validation Accuracy:  0.380, Loss:  2.840\n",
      "Epoch   0 Batch   20/134 - Train Accuracy:  0.383, Validation Accuracy:  0.387, Loss:  2.714\n",
      "Epoch   0 Batch   21/134 - Train Accuracy:  0.365, Validation Accuracy:  0.390, Loss:  2.780\n",
      "Epoch   0 Batch   22/134 - Train Accuracy:  0.327, Validation Accuracy:  0.391, Loss:  2.884\n",
      "Epoch   0 Batch   23/134 - Train Accuracy:  0.398, Validation Accuracy:  0.398, Loss:  2.580\n",
      "Epoch   0 Batch   24/134 - Train Accuracy:  0.350, Validation Accuracy:  0.406, Loss:  2.817\n",
      "Epoch   0 Batch   25/134 - Train Accuracy:  0.380, Validation Accuracy:  0.409, Loss:  2.691\n",
      "Epoch   0 Batch   26/134 - Train Accuracy:  0.361, Validation Accuracy:  0.417, Loss:  2.776\n",
      "Epoch   0 Batch   27/134 - Train Accuracy:  0.397, Validation Accuracy:  0.421, Loss:  2.616\n",
      "Epoch   0 Batch   28/134 - Train Accuracy:  0.405, Validation Accuracy:  0.428, Loss:  2.587\n",
      "Epoch   0 Batch   29/134 - Train Accuracy:  0.431, Validation Accuracy:  0.433, Loss:  2.448\n",
      "Epoch   0 Batch   30/134 - Train Accuracy:  0.433, Validation Accuracy:  0.432, Loss:  2.401\n",
      "Epoch   0 Batch   31/134 - Train Accuracy:  0.425, Validation Accuracy:  0.455, Loss:  2.492\n",
      "Epoch   0 Batch   32/134 - Train Accuracy:  0.457, Validation Accuracy:  0.463, Loss:  2.360\n",
      "Epoch   0 Batch   33/134 - Train Accuracy:  0.423, Validation Accuracy:  0.452, Loss:  2.427\n",
      "Epoch   0 Batch   34/134 - Train Accuracy:  0.444, Validation Accuracy:  0.469, Loss:  2.419\n",
      "Epoch   0 Batch   35/134 - Train Accuracy:  0.466, Validation Accuracy:  0.471, Loss:  2.264\n",
      "Epoch   0 Batch   36/134 - Train Accuracy:  0.437, Validation Accuracy:  0.459, Loss:  2.320\n",
      "Epoch   0 Batch   37/134 - Train Accuracy:  0.437, Validation Accuracy:  0.470, Loss:  2.316\n",
      "Epoch   0 Batch   38/134 - Train Accuracy:  0.449, Validation Accuracy:  0.477, Loss:  2.266\n",
      "Epoch   0 Batch   39/134 - Train Accuracy:  0.457, Validation Accuracy:  0.479, Loss:  2.229\n",
      "Epoch   0 Batch   40/134 - Train Accuracy:  0.451, Validation Accuracy:  0.473, Loss:  2.194\n",
      "Epoch   0 Batch   41/134 - Train Accuracy:  0.472, Validation Accuracy:  0.491, Loss:  2.176\n",
      "Epoch   0 Batch   42/134 - Train Accuracy:  0.452, Validation Accuracy:  0.485, Loss:  2.177\n",
      "Epoch   0 Batch   43/134 - Train Accuracy:  0.452, Validation Accuracy:  0.480, Loss:  2.159\n",
      "Epoch   0 Batch   44/134 - Train Accuracy:  0.461, Validation Accuracy:  0.488, Loss:  2.122\n",
      "Epoch   0 Batch   45/134 - Train Accuracy:  0.467, Validation Accuracy:  0.498, Loss:  2.096\n",
      "Epoch   0 Batch   46/134 - Train Accuracy:  0.503, Validation Accuracy:  0.509, Loss:  1.994\n",
      "Epoch   0 Batch   47/134 - Train Accuracy:  0.493, Validation Accuracy:  0.517, Loss:  2.045\n",
      "Epoch   0 Batch   48/134 - Train Accuracy:  0.494, Validation Accuracy:  0.511, Loss:  2.012\n",
      "Epoch   0 Batch   49/134 - Train Accuracy:  0.496, Validation Accuracy:  0.515, Loss:  1.995\n",
      "Epoch   0 Batch   50/134 - Train Accuracy:  0.474, Validation Accuracy:  0.507, Loss:  2.010\n",
      "Epoch   0 Batch   51/134 - Train Accuracy:  0.484, Validation Accuracy:  0.513, Loss:  1.972\n",
      "Epoch   0 Batch   52/134 - Train Accuracy:  0.489, Validation Accuracy:  0.524, Loss:  1.964\n",
      "Epoch   0 Batch   53/134 - Train Accuracy:  0.489, Validation Accuracy:  0.525, Loss:  1.951\n",
      "Epoch   0 Batch   54/134 - Train Accuracy:  0.486, Validation Accuracy:  0.517, Loss:  1.925\n",
      "Epoch   0 Batch   55/134 - Train Accuracy:  0.498, Validation Accuracy:  0.525, Loss:  1.901\n",
      "Epoch   0 Batch   56/134 - Train Accuracy:  0.514, Validation Accuracy:  0.522, Loss:  1.805\n",
      "Epoch   0 Batch   57/134 - Train Accuracy:  0.512, Validation Accuracy:  0.535, Loss:  1.858\n",
      "Epoch   0 Batch   58/134 - Train Accuracy:  0.501, Validation Accuracy:  0.523, Loss:  1.820\n",
      "Epoch   0 Batch   59/134 - Train Accuracy:  0.489, Validation Accuracy:  0.533, Loss:  1.896\n",
      "Epoch   0 Batch   60/134 - Train Accuracy:  0.520, Validation Accuracy:  0.544, Loss:  1.784\n",
      "Epoch   0 Batch   61/134 - Train Accuracy:  0.509, Validation Accuracy:  0.536, Loss:  1.774\n",
      "Epoch   0 Batch   62/134 - Train Accuracy:  0.506, Validation Accuracy:  0.528, Loss:  1.741\n",
      "Epoch   0 Batch   63/134 - Train Accuracy:  0.473, Validation Accuracy:  0.500, Loss:  1.769\n",
      "Epoch   0 Batch   64/134 - Train Accuracy:  0.448, Validation Accuracy:  0.485, Loss:  1.927\n",
      "Epoch   0 Batch   65/134 - Train Accuracy:  0.504, Validation Accuracy:  0.532, Loss:  1.920\n",
      "Epoch   0 Batch   66/134 - Train Accuracy:  0.483, Validation Accuracy:  0.513, Loss:  1.760\n",
      "Epoch   0 Batch   67/134 - Train Accuracy:  0.464, Validation Accuracy:  0.521, Loss:  1.936\n",
      "Epoch   0 Batch   68/134 - Train Accuracy:  0.471, Validation Accuracy:  0.518, Loss:  1.817\n",
      "Epoch   0 Batch   69/134 - Train Accuracy:  0.492, Validation Accuracy:  0.518, Loss:  1.728\n",
      "Epoch   0 Batch   70/134 - Train Accuracy:  0.533, Validation Accuracy:  0.548, Loss:  1.684\n",
      "Epoch   0 Batch   71/134 - Train Accuracy:  0.511, Validation Accuracy:  0.534, Loss:  1.654\n",
      "Epoch   0 Batch   72/134 - Train Accuracy:  0.505, Validation Accuracy:  0.536, Loss:  1.655\n",
      "Epoch   0 Batch   73/134 - Train Accuracy:  0.519, Validation Accuracy:  0.528, Loss:  1.571\n",
      "Epoch   0 Batch   74/134 - Train Accuracy:  0.513, Validation Accuracy:  0.539, Loss:  1.609\n",
      "Epoch   0 Batch   75/134 - Train Accuracy:  0.551, Validation Accuracy:  0.548, Loss:  1.506\n",
      "Epoch   0 Batch   76/134 - Train Accuracy:  0.516, Validation Accuracy:  0.539, Loss:  1.541\n",
      "Epoch   0 Batch   77/134 - Train Accuracy:  0.557, Validation Accuracy:  0.554, Loss:  1.452\n",
      "Epoch   0 Batch   78/134 - Train Accuracy:  0.511, Validation Accuracy:  0.537, Loss:  1.495\n",
      "Epoch   0 Batch   79/134 - Train Accuracy:  0.508, Validation Accuracy:  0.539, Loss:  1.502\n",
      "Epoch   0 Batch   80/134 - Train Accuracy:  0.522, Validation Accuracy:  0.551, Loss:  1.463\n",
      "Epoch   0 Batch   81/134 - Train Accuracy:  0.549, Validation Accuracy:  0.562, Loss:  1.429\n",
      "Epoch   0 Batch   82/134 - Train Accuracy:  0.560, Validation Accuracy:  0.555, Loss:  1.335\n",
      "Epoch   0 Batch   83/134 - Train Accuracy:  0.535, Validation Accuracy:  0.556, Loss:  1.405\n",
      "Epoch   0 Batch   84/134 - Train Accuracy:  0.531, Validation Accuracy:  0.557, Loss:  1.372\n",
      "Epoch   0 Batch   85/134 - Train Accuracy:  0.533, Validation Accuracy:  0.554, Loss:  1.356\n",
      "Epoch   0 Batch   86/134 - Train Accuracy:  0.530, Validation Accuracy:  0.560, Loss:  1.333\n",
      "Epoch   0 Batch   87/134 - Train Accuracy:  0.544, Validation Accuracy:  0.566, Loss:  1.326\n",
      "Epoch   0 Batch   88/134 - Train Accuracy:  0.552, Validation Accuracy:  0.562, Loss:  1.233\n",
      "Epoch   0 Batch   89/134 - Train Accuracy:  0.525, Validation Accuracy:  0.550, Loss:  1.264\n",
      "Epoch   0 Batch   90/134 - Train Accuracy:  0.519, Validation Accuracy:  0.551, Loss:  1.260\n",
      "Epoch   0 Batch   91/134 - Train Accuracy:  0.599, Validation Accuracy:  0.561, Loss:  1.077\n",
      "Epoch   0 Batch   92/134 - Train Accuracy:  0.535, Validation Accuracy:  0.560, Loss:  1.200\n",
      "Epoch   0 Batch   93/134 - Train Accuracy:  0.555, Validation Accuracy:  0.569, Loss:  1.163\n",
      "Epoch   0 Batch   94/134 - Train Accuracy:  0.539, Validation Accuracy:  0.564, Loss:  1.160\n",
      "Epoch   0 Batch   95/134 - Train Accuracy:  0.525, Validation Accuracy:  0.549, Loss:  1.166\n",
      "Epoch   0 Batch   96/134 - Train Accuracy:  0.522, Validation Accuracy:  0.551, Loss:  1.145\n",
      "Epoch   0 Batch   97/134 - Train Accuracy:  0.541, Validation Accuracy:  0.571, Loss:  1.140\n",
      "Epoch   0 Batch   98/134 - Train Accuracy:  0.511, Validation Accuracy:  0.563, Loss:  1.176\n",
      "Epoch   0 Batch   99/134 - Train Accuracy:  0.550, Validation Accuracy:  0.579, Loss:  1.101\n",
      "Epoch   0 Batch  100/134 - Train Accuracy:  0.551, Validation Accuracy:  0.577, Loss:  1.085\n",
      "Epoch   0 Batch  101/134 - Train Accuracy:  0.521, Validation Accuracy:  0.568, Loss:  1.117\n",
      "Epoch   0 Batch  102/134 - Train Accuracy:  0.542, Validation Accuracy:  0.571, Loss:  1.053\n",
      "Epoch   0 Batch  103/134 - Train Accuracy:  0.574, Validation Accuracy:  0.571, Loss:  1.008\n",
      "Epoch   0 Batch  104/134 - Train Accuracy:  0.561, Validation Accuracy:  0.575, Loss:  1.008\n",
      "Epoch   0 Batch  105/134 - Train Accuracy:  0.554, Validation Accuracy:  0.572, Loss:  1.005\n",
      "Epoch   0 Batch  106/134 - Train Accuracy:  0.557, Validation Accuracy:  0.572, Loss:  0.992\n",
      "Epoch   0 Batch  107/134 - Train Accuracy:  0.564, Validation Accuracy:  0.569, Loss:  0.943\n",
      "Epoch   0 Batch  108/134 - Train Accuracy:  0.517, Validation Accuracy:  0.566, Loss:  1.022\n",
      "Epoch   0 Batch  109/134 - Train Accuracy:  0.561, Validation Accuracy:  0.564, Loss:  0.914\n",
      "Epoch   0 Batch  110/134 - Train Accuracy:  0.550, Validation Accuracy:  0.563, Loss:  0.929\n",
      "Epoch   0 Batch  111/134 - Train Accuracy:  0.565, Validation Accuracy:  0.579, Loss:  0.942\n",
      "Epoch   0 Batch  112/134 - Train Accuracy:  0.565, Validation Accuracy:  0.578, Loss:  0.919\n",
      "Epoch   0 Batch  113/134 - Train Accuracy:  0.603, Validation Accuracy:  0.569, Loss:  0.811\n",
      "Epoch   0 Batch  114/134 - Train Accuracy:  0.547, Validation Accuracy:  0.571, Loss:  0.914\n",
      "Epoch   0 Batch  115/134 - Train Accuracy:  0.528, Validation Accuracy:  0.575, Loss:  0.947\n",
      "Epoch   0 Batch  116/134 - Train Accuracy:  0.565, Validation Accuracy:  0.589, Loss:  0.898\n",
      "Epoch   0 Batch  117/134 - Train Accuracy:  0.555, Validation Accuracy:  0.582, Loss:  0.887\n",
      "Epoch   0 Batch  118/134 - Train Accuracy:  0.561, Validation Accuracy:  0.587, Loss:  0.870\n",
      "Epoch   0 Batch  119/134 - Train Accuracy:  0.614, Validation Accuracy:  0.595, Loss:  0.797\n",
      "Epoch   0 Batch  120/134 - Train Accuracy:  0.568, Validation Accuracy:  0.592, Loss:  0.863\n",
      "Epoch   0 Batch  121/134 - Train Accuracy:  0.576, Validation Accuracy:  0.594, Loss:  0.835\n",
      "Epoch   0 Batch  122/134 - Train Accuracy:  0.578, Validation Accuracy:  0.599, Loss:  0.847\n",
      "Epoch   0 Batch  123/134 - Train Accuracy:  0.582, Validation Accuracy:  0.603, Loss:  0.824\n",
      "Epoch   0 Batch  124/134 - Train Accuracy:  0.604, Validation Accuracy:  0.604, Loss:  0.775\n",
      "Epoch   0 Batch  125/134 - Train Accuracy:  0.581, Validation Accuracy:  0.598, Loss:  0.816\n",
      "Epoch   0 Batch  126/134 - Train Accuracy:  0.574, Validation Accuracy:  0.597, Loss:  0.813\n",
      "Epoch   0 Batch  127/134 - Train Accuracy:  0.598, Validation Accuracy:  0.605, Loss:  0.777\n",
      "Epoch   0 Batch  128/134 - Train Accuracy:  0.571, Validation Accuracy:  0.610, Loss:  0.807\n",
      "Epoch   0 Batch  129/134 - Train Accuracy:  0.599, Validation Accuracy:  0.611, Loss:  0.787\n",
      "Epoch   0 Batch  130/134 - Train Accuracy:  0.583, Validation Accuracy:  0.610, Loss:  0.787\n",
      "Epoch   0 Batch  131/134 - Train Accuracy:  0.581, Validation Accuracy:  0.617, Loss:  0.806\n",
      "Epoch   0 Batch  132/134 - Train Accuracy:  0.594, Validation Accuracy:  0.615, Loss:  0.756\n",
      "Epoch   1 Batch    0/134 - Train Accuracy:  0.595, Validation Accuracy:  0.622, Loss:  0.757\n",
      "Epoch   1 Batch    1/134 - Train Accuracy:  0.579, Validation Accuracy:  0.621, Loss:  0.784\n",
      "Epoch   1 Batch    2/134 - Train Accuracy:  0.575, Validation Accuracy:  0.601, Loss:  0.737\n",
      "Epoch   1 Batch    3/134 - Train Accuracy:  0.601, Validation Accuracy:  0.629, Loss:  0.740\n",
      "Epoch   1 Batch    4/134 - Train Accuracy:  0.606, Validation Accuracy:  0.632, Loss:  0.745\n",
      "Epoch   1 Batch    5/134 - Train Accuracy:  0.596, Validation Accuracy:  0.628, Loss:  0.741\n",
      "Epoch   1 Batch    6/134 - Train Accuracy:  0.625, Validation Accuracy:  0.630, Loss:  0.687\n",
      "Epoch   1 Batch    7/134 - Train Accuracy:  0.608, Validation Accuracy:  0.627, Loss:  0.718\n",
      "Epoch   1 Batch    8/134 - Train Accuracy:  0.599, Validation Accuracy:  0.615, Loss:  0.703\n",
      "Epoch   1 Batch    9/134 - Train Accuracy:  0.625, Validation Accuracy:  0.619, Loss:  0.673\n",
      "Epoch   1 Batch   10/134 - Train Accuracy:  0.619, Validation Accuracy:  0.631, Loss:  0.701\n",
      "Epoch   1 Batch   11/134 - Train Accuracy:  0.621, Validation Accuracy:  0.634, Loss:  0.701\n",
      "Epoch   1 Batch   12/134 - Train Accuracy:  0.632, Validation Accuracy:  0.640, Loss:  0.664\n",
      "Epoch   1 Batch   13/134 - Train Accuracy:  0.598, Validation Accuracy:  0.635, Loss:  0.702\n",
      "Epoch   1 Batch   14/134 - Train Accuracy:  0.614, Validation Accuracy:  0.625, Loss:  0.677\n",
      "Epoch   1 Batch   15/134 - Train Accuracy:  0.610, Validation Accuracy:  0.628, Loss:  0.667\n",
      "Epoch   1 Batch   16/134 - Train Accuracy:  0.627, Validation Accuracy:  0.634, Loss:  0.665\n",
      "Epoch   1 Batch   17/134 - Train Accuracy:  0.629, Validation Accuracy:  0.636, Loss:  0.677\n",
      "Epoch   1 Batch   18/134 - Train Accuracy:  0.636, Validation Accuracy:  0.650, Loss:  0.664\n",
      "Epoch   1 Batch   19/134 - Train Accuracy:  0.625, Validation Accuracy:  0.643, Loss:  0.662\n",
      "Epoch   1 Batch   20/134 - Train Accuracy:  0.635, Validation Accuracy:  0.639, Loss:  0.635\n",
      "Epoch   1 Batch   21/134 - Train Accuracy:  0.622, Validation Accuracy:  0.639, Loss:  0.655\n",
      "Epoch   1 Batch   22/134 - Train Accuracy:  0.608, Validation Accuracy:  0.639, Loss:  0.678\n",
      "Epoch   1 Batch   23/134 - Train Accuracy:  0.645, Validation Accuracy:  0.645, Loss:  0.602\n",
      "Epoch   1 Batch   24/134 - Train Accuracy:  0.609, Validation Accuracy:  0.640, Loss:  0.665\n",
      "Epoch   1 Batch   25/134 - Train Accuracy:  0.620, Validation Accuracy:  0.643, Loss:  0.626\n",
      "Epoch   1 Batch   26/134 - Train Accuracy:  0.628, Validation Accuracy:  0.650, Loss:  0.660\n",
      "Epoch   1 Batch   27/134 - Train Accuracy:  0.638, Validation Accuracy:  0.647, Loss:  0.625\n",
      "Epoch   1 Batch   28/134 - Train Accuracy:  0.630, Validation Accuracy:  0.649, Loss:  0.623\n",
      "Epoch   1 Batch   29/134 - Train Accuracy:  0.655, Validation Accuracy:  0.652, Loss:  0.582\n",
      "Epoch   1 Batch   30/134 - Train Accuracy:  0.658, Validation Accuracy:  0.650, Loss:  0.585\n",
      "Epoch   1 Batch   31/134 - Train Accuracy:  0.629, Validation Accuracy:  0.650, Loss:  0.607\n",
      "Epoch   1 Batch   32/134 - Train Accuracy:  0.651, Validation Accuracy:  0.657, Loss:  0.576\n",
      "Epoch   1 Batch   33/134 - Train Accuracy:  0.637, Validation Accuracy:  0.663, Loss:  0.610\n",
      "Epoch   1 Batch   34/134 - Train Accuracy:  0.650, Validation Accuracy:  0.657, Loss:  0.610\n",
      "Epoch   1 Batch   35/134 - Train Accuracy:  0.661, Validation Accuracy:  0.666, Loss:  0.575\n",
      "Epoch   1 Batch   36/134 - Train Accuracy:  0.656, Validation Accuracy:  0.665, Loss:  0.585\n",
      "Epoch   1 Batch   37/134 - Train Accuracy:  0.639, Validation Accuracy:  0.657, Loss:  0.587\n",
      "Epoch   1 Batch   38/134 - Train Accuracy:  0.659, Validation Accuracy:  0.668, Loss:  0.574\n",
      "Epoch   1 Batch   39/134 - Train Accuracy:  0.653, Validation Accuracy:  0.662, Loss:  0.570\n",
      "Epoch   1 Batch   40/134 - Train Accuracy:  0.658, Validation Accuracy:  0.662, Loss:  0.568\n",
      "Epoch   1 Batch   41/134 - Train Accuracy:  0.658, Validation Accuracy:  0.667, Loss:  0.568\n",
      "Epoch   1 Batch   42/134 - Train Accuracy:  0.646, Validation Accuracy:  0.665, Loss:  0.564\n",
      "Epoch   1 Batch   43/134 - Train Accuracy:  0.650, Validation Accuracy:  0.670, Loss:  0.562\n",
      "Epoch   1 Batch   44/134 - Train Accuracy:  0.659, Validation Accuracy:  0.672, Loss:  0.552\n",
      "Epoch   1 Batch   45/134 - Train Accuracy:  0.661, Validation Accuracy:  0.669, Loss:  0.538\n",
      "Epoch   1 Batch   46/134 - Train Accuracy:  0.668, Validation Accuracy:  0.672, Loss:  0.526\n",
      "Epoch   1 Batch   47/134 - Train Accuracy:  0.652, Validation Accuracy:  0.669, Loss:  0.548\n",
      "Epoch   1 Batch   48/134 - Train Accuracy:  0.657, Validation Accuracy:  0.672, Loss:  0.545\n",
      "Epoch   1 Batch   49/134 - Train Accuracy:  0.676, Validation Accuracy:  0.678, Loss:  0.536\n",
      "Epoch   1 Batch   50/134 - Train Accuracy:  0.652, Validation Accuracy:  0.678, Loss:  0.541\n",
      "Epoch   1 Batch   51/134 - Train Accuracy:  0.661, Validation Accuracy:  0.673, Loss:  0.529\n",
      "Epoch   1 Batch   52/134 - Train Accuracy:  0.663, Validation Accuracy:  0.683, Loss:  0.525\n",
      "Epoch   1 Batch   53/134 - Train Accuracy:  0.656, Validation Accuracy:  0.680, Loss:  0.528\n",
      "Epoch   1 Batch   54/134 - Train Accuracy:  0.649, Validation Accuracy:  0.677, Loss:  0.522\n",
      "Epoch   1 Batch   55/134 - Train Accuracy:  0.662, Validation Accuracy:  0.676, Loss:  0.518\n",
      "Epoch   1 Batch   56/134 - Train Accuracy:  0.673, Validation Accuracy:  0.676, Loss:  0.492\n",
      "Epoch   1 Batch   57/134 - Train Accuracy:  0.683, Validation Accuracy:  0.686, Loss:  0.510\n",
      "Epoch   1 Batch   58/134 - Train Accuracy:  0.680, Validation Accuracy:  0.686, Loss:  0.498\n",
      "Epoch   1 Batch   59/134 - Train Accuracy:  0.669, Validation Accuracy:  0.688, Loss:  0.522\n",
      "Epoch   1 Batch   60/134 - Train Accuracy:  0.674, Validation Accuracy:  0.691, Loss:  0.494\n",
      "Epoch   1 Batch   61/134 - Train Accuracy:  0.680, Validation Accuracy:  0.691, Loss:  0.490\n",
      "Epoch   1 Batch   62/134 - Train Accuracy:  0.672, Validation Accuracy:  0.682, Loss:  0.488\n",
      "Epoch   1 Batch   63/134 - Train Accuracy:  0.685, Validation Accuracy:  0.690, Loss:  0.483\n",
      "Epoch   1 Batch   64/134 - Train Accuracy:  0.676, Validation Accuracy:  0.696, Loss:  0.480\n",
      "Epoch   1 Batch   65/134 - Train Accuracy:  0.683, Validation Accuracy:  0.693, Loss:  0.485\n",
      "Epoch   1 Batch   66/134 - Train Accuracy:  0.682, Validation Accuracy:  0.695, Loss:  0.470\n",
      "Epoch   1 Batch   67/134 - Train Accuracy:  0.664, Validation Accuracy:  0.691, Loss:  0.509\n",
      "Epoch   1 Batch   68/134 - Train Accuracy:  0.671, Validation Accuracy:  0.698, Loss:  0.493\n",
      "Epoch   1 Batch   69/134 - Train Accuracy:  0.690, Validation Accuracy:  0.695, Loss:  0.466\n",
      "Epoch   1 Batch   70/134 - Train Accuracy:  0.690, Validation Accuracy:  0.694, Loss:  0.461\n",
      "Epoch   1 Batch   71/134 - Train Accuracy:  0.689, Validation Accuracy:  0.697, Loss:  0.453\n",
      "Epoch   1 Batch   72/134 - Train Accuracy:  0.702, Validation Accuracy:  0.705, Loss:  0.454\n",
      "Epoch   1 Batch   73/134 - Train Accuracy:  0.701, Validation Accuracy:  0.699, Loss:  0.440\n",
      "Epoch   1 Batch   74/134 - Train Accuracy:  0.688, Validation Accuracy:  0.705, Loss:  0.457\n",
      "Epoch   1 Batch   75/134 - Train Accuracy:  0.708, Validation Accuracy:  0.703, Loss:  0.431\n",
      "Epoch   1 Batch   76/134 - Train Accuracy:  0.688, Validation Accuracy:  0.698, Loss:  0.438\n",
      "Epoch   1 Batch   77/134 - Train Accuracy:  0.720, Validation Accuracy:  0.711, Loss:  0.423\n",
      "Epoch   1 Batch   78/134 - Train Accuracy:  0.691, Validation Accuracy:  0.712, Loss:  0.440\n",
      "Epoch   1 Batch   79/134 - Train Accuracy:  0.698, Validation Accuracy:  0.704, Loss:  0.435\n",
      "Epoch   1 Batch   80/134 - Train Accuracy:  0.695, Validation Accuracy:  0.702, Loss:  0.430\n",
      "Epoch   1 Batch   81/134 - Train Accuracy:  0.701, Validation Accuracy:  0.703, Loss:  0.430\n",
      "Epoch   1 Batch   82/134 - Train Accuracy:  0.711, Validation Accuracy:  0.708, Loss:  0.412\n",
      "Epoch   1 Batch   83/134 - Train Accuracy:  0.705, Validation Accuracy:  0.716, Loss:  0.435\n",
      "Epoch   1 Batch   84/134 - Train Accuracy:  0.707, Validation Accuracy:  0.717, Loss:  0.428\n",
      "Epoch   1 Batch   85/134 - Train Accuracy:  0.705, Validation Accuracy:  0.711, Loss:  0.424\n",
      "Epoch   1 Batch   86/134 - Train Accuracy:  0.692, Validation Accuracy:  0.709, Loss:  0.411\n",
      "Epoch   1 Batch   87/134 - Train Accuracy:  0.702, Validation Accuracy:  0.715, Loss:  0.424\n",
      "Epoch   1 Batch   88/134 - Train Accuracy:  0.728, Validation Accuracy:  0.726, Loss:  0.390\n",
      "Epoch   1 Batch   89/134 - Train Accuracy:  0.706, Validation Accuracy:  0.732, Loss:  0.403\n",
      "Epoch   1 Batch   90/134 - Train Accuracy:  0.701, Validation Accuracy:  0.725, Loss:  0.408\n",
      "Epoch   1 Batch   91/134 - Train Accuracy:  0.754, Validation Accuracy:  0.722, Loss:  0.349\n",
      "Epoch   1 Batch   92/134 - Train Accuracy:  0.722, Validation Accuracy:  0.738, Loss:  0.391\n",
      "Epoch   1 Batch   93/134 - Train Accuracy:  0.730, Validation Accuracy:  0.743, Loss:  0.381\n",
      "Epoch   1 Batch   94/134 - Train Accuracy:  0.729, Validation Accuracy:  0.742, Loss:  0.380\n",
      "Epoch   1 Batch   95/134 - Train Accuracy:  0.727, Validation Accuracy:  0.742, Loss:  0.385\n",
      "Epoch   1 Batch   96/134 - Train Accuracy:  0.736, Validation Accuracy:  0.730, Loss:  0.380\n",
      "Epoch   1 Batch   97/134 - Train Accuracy:  0.724, Validation Accuracy:  0.730, Loss:  0.373\n",
      "Epoch   1 Batch   98/134 - Train Accuracy:  0.719, Validation Accuracy:  0.741, Loss:  0.395\n",
      "Epoch   1 Batch   99/134 - Train Accuracy:  0.741, Validation Accuracy:  0.745, Loss:  0.374\n",
      "Epoch   1 Batch  100/134 - Train Accuracy:  0.736, Validation Accuracy:  0.748, Loss:  0.366\n",
      "Epoch   1 Batch  101/134 - Train Accuracy:  0.738, Validation Accuracy:  0.754, Loss:  0.388\n",
      "Epoch   1 Batch  102/134 - Train Accuracy:  0.729, Validation Accuracy:  0.745, Loss:  0.360\n",
      "Epoch   1 Batch  103/134 - Train Accuracy:  0.753, Validation Accuracy:  0.747, Loss:  0.344\n",
      "Epoch   1 Batch  104/134 - Train Accuracy:  0.765, Validation Accuracy:  0.762, Loss:  0.348\n",
      "Epoch   1 Batch  105/134 - Train Accuracy:  0.745, Validation Accuracy:  0.754, Loss:  0.353\n",
      "Epoch   1 Batch  106/134 - Train Accuracy:  0.744, Validation Accuracy:  0.760, Loss:  0.348\n",
      "Epoch   1 Batch  107/134 - Train Accuracy:  0.754, Validation Accuracy:  0.757, Loss:  0.333\n",
      "Epoch   1 Batch  108/134 - Train Accuracy:  0.746, Validation Accuracy:  0.766, Loss:  0.359\n",
      "Epoch   1 Batch  109/134 - Train Accuracy:  0.766, Validation Accuracy:  0.771, Loss:  0.325\n",
      "Epoch   1 Batch  110/134 - Train Accuracy:  0.772, Validation Accuracy:  0.762, Loss:  0.334\n",
      "Epoch   1 Batch  111/134 - Train Accuracy:  0.751, Validation Accuracy:  0.765, Loss:  0.339\n",
      "Epoch   1 Batch  112/134 - Train Accuracy:  0.777, Validation Accuracy:  0.774, Loss:  0.328\n",
      "Epoch   1 Batch  113/134 - Train Accuracy:  0.802, Validation Accuracy:  0.787, Loss:  0.294\n",
      "Epoch   1 Batch  114/134 - Train Accuracy:  0.755, Validation Accuracy:  0.765, Loss:  0.323\n",
      "Epoch   1 Batch  115/134 - Train Accuracy:  0.742, Validation Accuracy:  0.766, Loss:  0.336\n",
      "Epoch   1 Batch  116/134 - Train Accuracy:  0.760, Validation Accuracy:  0.775, Loss:  0.325\n",
      "Epoch   1 Batch  117/134 - Train Accuracy:  0.769, Validation Accuracy:  0.790, Loss:  0.319\n",
      "Epoch   1 Batch  118/134 - Train Accuracy:  0.783, Validation Accuracy:  0.787, Loss:  0.317\n",
      "Epoch   1 Batch  119/134 - Train Accuracy:  0.776, Validation Accuracy:  0.763, Loss:  0.291\n",
      "Epoch   1 Batch  120/134 - Train Accuracy:  0.783, Validation Accuracy:  0.777, Loss:  0.317\n",
      "Epoch   1 Batch  121/134 - Train Accuracy:  0.780, Validation Accuracy:  0.783, Loss:  0.304\n",
      "Epoch   1 Batch  122/134 - Train Accuracy:  0.751, Validation Accuracy:  0.778, Loss:  0.302\n",
      "Epoch   1 Batch  123/134 - Train Accuracy:  0.794, Validation Accuracy:  0.803, Loss:  0.299\n",
      "Epoch   1 Batch  124/134 - Train Accuracy:  0.792, Validation Accuracy:  0.782, Loss:  0.279\n",
      "Epoch   1 Batch  125/134 - Train Accuracy:  0.789, Validation Accuracy:  0.791, Loss:  0.294\n",
      "Epoch   1 Batch  126/134 - Train Accuracy:  0.786, Validation Accuracy:  0.797, Loss:  0.296\n",
      "Epoch   1 Batch  127/134 - Train Accuracy:  0.788, Validation Accuracy:  0.786, Loss:  0.280\n",
      "Epoch   1 Batch  128/134 - Train Accuracy:  0.797, Validation Accuracy:  0.812, Loss:  0.300\n",
      "Epoch   1 Batch  129/134 - Train Accuracy:  0.795, Validation Accuracy:  0.806, Loss:  0.288\n",
      "Epoch   1 Batch  130/134 - Train Accuracy:  0.806, Validation Accuracy:  0.818, Loss:  0.280\n",
      "Epoch   1 Batch  131/134 - Train Accuracy:  0.794, Validation Accuracy:  0.808, Loss:  0.296\n",
      "Epoch   1 Batch  132/134 - Train Accuracy:  0.807, Validation Accuracy:  0.804, Loss:  0.269\n",
      "Epoch   2 Batch    0/134 - Train Accuracy:  0.806, Validation Accuracy:  0.811, Loss:  0.275\n",
      "Epoch   2 Batch    1/134 - Train Accuracy:  0.814, Validation Accuracy:  0.824, Loss:  0.280\n",
      "Epoch   2 Batch    2/134 - Train Accuracy:  0.813, Validation Accuracy:  0.814, Loss:  0.256\n",
      "Epoch   2 Batch    3/134 - Train Accuracy:  0.824, Validation Accuracy:  0.824, Loss:  0.264\n",
      "Epoch   2 Batch    4/134 - Train Accuracy:  0.824, Validation Accuracy:  0.817, Loss:  0.260\n",
      "Epoch   2 Batch    5/134 - Train Accuracy:  0.822, Validation Accuracy:  0.829, Loss:  0.266\n",
      "Epoch   2 Batch    6/134 - Train Accuracy:  0.824, Validation Accuracy:  0.832, Loss:  0.238\n",
      "Epoch   2 Batch    7/134 - Train Accuracy:  0.818, Validation Accuracy:  0.831, Loss:  0.246\n",
      "Epoch   2 Batch    8/134 - Train Accuracy:  0.827, Validation Accuracy:  0.837, Loss:  0.241\n",
      "Epoch   2 Batch    9/134 - Train Accuracy:  0.839, Validation Accuracy:  0.838, Loss:  0.230\n",
      "Epoch   2 Batch   10/134 - Train Accuracy:  0.832, Validation Accuracy:  0.839, Loss:  0.242\n",
      "Epoch   2 Batch   11/134 - Train Accuracy:  0.823, Validation Accuracy:  0.839, Loss:  0.240\n",
      "Epoch   2 Batch   12/134 - Train Accuracy:  0.836, Validation Accuracy:  0.833, Loss:  0.227\n",
      "Epoch   2 Batch   13/134 - Train Accuracy:  0.822, Validation Accuracy:  0.839, Loss:  0.240\n",
      "Epoch   2 Batch   14/134 - Train Accuracy:  0.838, Validation Accuracy:  0.839, Loss:  0.234\n",
      "Epoch   2 Batch   15/134 - Train Accuracy:  0.834, Validation Accuracy:  0.833, Loss:  0.230\n",
      "Epoch   2 Batch   16/134 - Train Accuracy:  0.840, Validation Accuracy:  0.835, Loss:  0.224\n",
      "Epoch   2 Batch   17/134 - Train Accuracy:  0.831, Validation Accuracy:  0.839, Loss:  0.239\n",
      "Epoch   2 Batch   18/134 - Train Accuracy:  0.831, Validation Accuracy:  0.842, Loss:  0.229\n",
      "Epoch   2 Batch   19/134 - Train Accuracy:  0.832, Validation Accuracy:  0.838, Loss:  0.222\n",
      "Epoch   2 Batch   20/134 - Train Accuracy:  0.843, Validation Accuracy:  0.844, Loss:  0.215\n",
      "Epoch   2 Batch   21/134 - Train Accuracy:  0.832, Validation Accuracy:  0.838, Loss:  0.218\n",
      "Epoch   2 Batch   22/134 - Train Accuracy:  0.823, Validation Accuracy:  0.844, Loss:  0.226\n",
      "Epoch   2 Batch   23/134 - Train Accuracy:  0.848, Validation Accuracy:  0.839, Loss:  0.198\n",
      "Epoch   2 Batch   24/134 - Train Accuracy:  0.839, Validation Accuracy:  0.846, Loss:  0.228\n",
      "Epoch   2 Batch   25/134 - Train Accuracy:  0.836, Validation Accuracy:  0.847, Loss:  0.207\n",
      "Epoch   2 Batch   26/134 - Train Accuracy:  0.838, Validation Accuracy:  0.853, Loss:  0.222\n",
      "Epoch   2 Batch   27/134 - Train Accuracy:  0.846, Validation Accuracy:  0.852, Loss:  0.212\n",
      "Epoch   2 Batch   28/134 - Train Accuracy:  0.841, Validation Accuracy:  0.849, Loss:  0.208\n",
      "Epoch   2 Batch   29/134 - Train Accuracy:  0.857, Validation Accuracy:  0.855, Loss:  0.188\n",
      "Epoch   2 Batch   30/134 - Train Accuracy:  0.861, Validation Accuracy:  0.864, Loss:  0.196\n",
      "Epoch   2 Batch   31/134 - Train Accuracy:  0.856, Validation Accuracy:  0.858, Loss:  0.194\n",
      "Epoch   2 Batch   32/134 - Train Accuracy:  0.844, Validation Accuracy:  0.858, Loss:  0.188\n",
      "Epoch   2 Batch   33/134 - Train Accuracy:  0.838, Validation Accuracy:  0.858, Loss:  0.204\n",
      "Epoch   2 Batch   34/134 - Train Accuracy:  0.849, Validation Accuracy:  0.867, Loss:  0.199\n",
      "Epoch   2 Batch   35/134 - Train Accuracy:  0.857, Validation Accuracy:  0.872, Loss:  0.192\n",
      "Epoch   2 Batch   36/134 - Train Accuracy:  0.855, Validation Accuracy:  0.867, Loss:  0.188\n",
      "Epoch   2 Batch   37/134 - Train Accuracy:  0.847, Validation Accuracy:  0.862, Loss:  0.186\n",
      "Epoch   2 Batch   38/134 - Train Accuracy:  0.866, Validation Accuracy:  0.866, Loss:  0.181\n",
      "Epoch   2 Batch   39/134 - Train Accuracy:  0.858, Validation Accuracy:  0.868, Loss:  0.181\n",
      "Epoch   2 Batch   40/134 - Train Accuracy:  0.863, Validation Accuracy:  0.865, Loss:  0.182\n",
      "Epoch   2 Batch   41/134 - Train Accuracy:  0.858, Validation Accuracy:  0.868, Loss:  0.182\n",
      "Epoch   2 Batch   42/134 - Train Accuracy:  0.858, Validation Accuracy:  0.866, Loss:  0.178\n",
      "Epoch   2 Batch   43/134 - Train Accuracy:  0.860, Validation Accuracy:  0.866, Loss:  0.181\n",
      "Epoch   2 Batch   44/134 - Train Accuracy:  0.857, Validation Accuracy:  0.861, Loss:  0.171\n",
      "Epoch   2 Batch   45/134 - Train Accuracy:  0.876, Validation Accuracy:  0.871, Loss:  0.171\n",
      "Epoch   2 Batch   46/134 - Train Accuracy:  0.868, Validation Accuracy:  0.865, Loss:  0.168\n",
      "Epoch   2 Batch   47/134 - Train Accuracy:  0.852, Validation Accuracy:  0.871, Loss:  0.171\n",
      "Epoch   2 Batch   48/134 - Train Accuracy:  0.862, Validation Accuracy:  0.860, Loss:  0.173\n",
      "Epoch   2 Batch   49/134 - Train Accuracy:  0.869, Validation Accuracy:  0.872, Loss:  0.174\n",
      "Epoch   2 Batch   50/134 - Train Accuracy:  0.854, Validation Accuracy:  0.871, Loss:  0.173\n",
      "Epoch   2 Batch   51/134 - Train Accuracy:  0.862, Validation Accuracy:  0.877, Loss:  0.171\n",
      "Epoch   2 Batch   52/134 - Train Accuracy:  0.863, Validation Accuracy:  0.871, Loss:  0.160\n",
      "Epoch   2 Batch   53/134 - Train Accuracy:  0.873, Validation Accuracy:  0.877, Loss:  0.161\n",
      "Epoch   2 Batch   54/134 - Train Accuracy:  0.858, Validation Accuracy:  0.877, Loss:  0.162\n",
      "Epoch   2 Batch   55/134 - Train Accuracy:  0.882, Validation Accuracy:  0.879, Loss:  0.161\n",
      "Epoch   2 Batch   56/134 - Train Accuracy:  0.878, Validation Accuracy:  0.884, Loss:  0.148\n",
      "Epoch   2 Batch   57/134 - Train Accuracy:  0.882, Validation Accuracy:  0.889, Loss:  0.155\n",
      "Epoch   2 Batch   58/134 - Train Accuracy:  0.889, Validation Accuracy:  0.882, Loss:  0.141\n",
      "Epoch   2 Batch   59/134 - Train Accuracy:  0.877, Validation Accuracy:  0.884, Loss:  0.156\n",
      "Epoch   2 Batch   60/134 - Train Accuracy:  0.872, Validation Accuracy:  0.881, Loss:  0.144\n",
      "Epoch   2 Batch   61/134 - Train Accuracy:  0.889, Validation Accuracy:  0.888, Loss:  0.140\n",
      "Epoch   2 Batch   62/134 - Train Accuracy:  0.885, Validation Accuracy:  0.880, Loss:  0.137\n",
      "Epoch   2 Batch   63/134 - Train Accuracy:  0.880, Validation Accuracy:  0.882, Loss:  0.139\n",
      "Epoch   2 Batch   64/134 - Train Accuracy:  0.880, Validation Accuracy:  0.887, Loss:  0.141\n",
      "Epoch   2 Batch   65/134 - Train Accuracy:  0.867, Validation Accuracy:  0.887, Loss:  0.140\n",
      "Epoch   2 Batch   66/134 - Train Accuracy:  0.888, Validation Accuracy:  0.882, Loss:  0.136\n",
      "Epoch   2 Batch   67/134 - Train Accuracy:  0.876, Validation Accuracy:  0.876, Loss:  0.144\n",
      "Epoch   2 Batch   68/134 - Train Accuracy:  0.874, Validation Accuracy:  0.882, Loss:  0.139\n",
      "Epoch   2 Batch   69/134 - Train Accuracy:  0.885, Validation Accuracy:  0.888, Loss:  0.135\n",
      "Epoch   2 Batch   70/134 - Train Accuracy:  0.883, Validation Accuracy:  0.893, Loss:  0.132\n",
      "Epoch   2 Batch   71/134 - Train Accuracy:  0.892, Validation Accuracy:  0.893, Loss:  0.126\n",
      "Epoch   2 Batch   72/134 - Train Accuracy:  0.880, Validation Accuracy:  0.887, Loss:  0.127\n",
      "Epoch   2 Batch   73/134 - Train Accuracy:  0.881, Validation Accuracy:  0.895, Loss:  0.130\n",
      "Epoch   2 Batch   74/134 - Train Accuracy:  0.877, Validation Accuracy:  0.901, Loss:  0.131\n",
      "Epoch   2 Batch   75/134 - Train Accuracy:  0.894, Validation Accuracy:  0.897, Loss:  0.121\n",
      "Epoch   2 Batch   76/134 - Train Accuracy:  0.908, Validation Accuracy:  0.900, Loss:  0.122\n",
      "Epoch   2 Batch   77/134 - Train Accuracy:  0.888, Validation Accuracy:  0.900, Loss:  0.116\n",
      "Epoch   2 Batch   78/134 - Train Accuracy:  0.891, Validation Accuracy:  0.897, Loss:  0.118\n",
      "Epoch   2 Batch   79/134 - Train Accuracy:  0.885, Validation Accuracy:  0.899, Loss:  0.124\n",
      "Epoch   2 Batch   80/134 - Train Accuracy:  0.892, Validation Accuracy:  0.898, Loss:  0.116\n",
      "Epoch   2 Batch   81/134 - Train Accuracy:  0.897, Validation Accuracy:  0.901, Loss:  0.118\n",
      "Epoch   2 Batch   82/134 - Train Accuracy:  0.901, Validation Accuracy:  0.903, Loss:  0.108\n",
      "Epoch   2 Batch   83/134 - Train Accuracy:  0.894, Validation Accuracy:  0.902, Loss:  0.118\n",
      "Epoch   2 Batch   84/134 - Train Accuracy:  0.883, Validation Accuracy:  0.892, Loss:  0.113\n",
      "Epoch   2 Batch   85/134 - Train Accuracy:  0.892, Validation Accuracy:  0.896, Loss:  0.114\n",
      "Epoch   2 Batch   86/134 - Train Accuracy:  0.900, Validation Accuracy:  0.894, Loss:  0.108\n",
      "Epoch   2 Batch   87/134 - Train Accuracy:  0.887, Validation Accuracy:  0.902, Loss:  0.118\n",
      "Epoch   2 Batch   88/134 - Train Accuracy:  0.903, Validation Accuracy:  0.891, Loss:  0.100\n",
      "Epoch   2 Batch   89/134 - Train Accuracy:  0.898, Validation Accuracy:  0.904, Loss:  0.106\n",
      "Epoch   2 Batch   90/134 - Train Accuracy:  0.893, Validation Accuracy:  0.906, Loss:  0.112\n",
      "Epoch   2 Batch   91/134 - Train Accuracy:  0.912, Validation Accuracy:  0.910, Loss:  0.090\n",
      "Epoch   2 Batch   92/134 - Train Accuracy:  0.905, Validation Accuracy:  0.912, Loss:  0.101\n",
      "Epoch   2 Batch   93/134 - Train Accuracy:  0.905, Validation Accuracy:  0.913, Loss:  0.099\n",
      "Epoch   2 Batch   94/134 - Train Accuracy:  0.903, Validation Accuracy:  0.917, Loss:  0.099\n",
      "Epoch   2 Batch   95/134 - Train Accuracy:  0.907, Validation Accuracy:  0.922, Loss:  0.101\n",
      "Epoch   2 Batch   96/134 - Train Accuracy:  0.904, Validation Accuracy:  0.918, Loss:  0.099\n",
      "Epoch   2 Batch   97/134 - Train Accuracy:  0.900, Validation Accuracy:  0.918, Loss:  0.095\n",
      "Epoch   2 Batch   98/134 - Train Accuracy:  0.899, Validation Accuracy:  0.918, Loss:  0.103\n",
      "Epoch   2 Batch   99/134 - Train Accuracy:  0.900, Validation Accuracy:  0.916, Loss:  0.098\n",
      "Epoch   2 Batch  100/134 - Train Accuracy:  0.900, Validation Accuracy:  0.920, Loss:  0.098\n",
      "Epoch   2 Batch  101/134 - Train Accuracy:  0.911, Validation Accuracy:  0.928, Loss:  0.101\n",
      "Epoch   2 Batch  102/134 - Train Accuracy:  0.910, Validation Accuracy:  0.918, Loss:  0.095\n",
      "Epoch   2 Batch  103/134 - Train Accuracy:  0.914, Validation Accuracy:  0.922, Loss:  0.092\n",
      "Epoch   2 Batch  104/134 - Train Accuracy:  0.913, Validation Accuracy:  0.916, Loss:  0.087\n",
      "Epoch   2 Batch  105/134 - Train Accuracy:  0.911, Validation Accuracy:  0.923, Loss:  0.100\n",
      "Epoch   2 Batch  106/134 - Train Accuracy:  0.911, Validation Accuracy:  0.918, Loss:  0.090\n",
      "Epoch   2 Batch  107/134 - Train Accuracy:  0.911, Validation Accuracy:  0.923, Loss:  0.094\n",
      "Epoch   2 Batch  108/134 - Train Accuracy:  0.903, Validation Accuracy:  0.922, Loss:  0.091\n",
      "Epoch   2 Batch  109/134 - Train Accuracy:  0.919, Validation Accuracy:  0.928, Loss:  0.087\n",
      "Epoch   2 Batch  110/134 - Train Accuracy:  0.917, Validation Accuracy:  0.927, Loss:  0.085\n",
      "Epoch   2 Batch  111/134 - Train Accuracy:  0.916, Validation Accuracy:  0.925, Loss:  0.091\n",
      "Epoch   2 Batch  112/134 - Train Accuracy:  0.914, Validation Accuracy:  0.924, Loss:  0.087\n",
      "Epoch   2 Batch  113/134 - Train Accuracy:  0.921, Validation Accuracy:  0.925, Loss:  0.082\n",
      "Epoch   2 Batch  114/134 - Train Accuracy:  0.922, Validation Accuracy:  0.917, Loss:  0.085\n",
      "Epoch   2 Batch  115/134 - Train Accuracy:  0.905, Validation Accuracy:  0.919, Loss:  0.086\n",
      "Epoch   2 Batch  116/134 - Train Accuracy:  0.924, Validation Accuracy:  0.916, Loss:  0.086\n",
      "Epoch   2 Batch  117/134 - Train Accuracy:  0.920, Validation Accuracy:  0.927, Loss:  0.078\n",
      "Epoch   2 Batch  118/134 - Train Accuracy:  0.917, Validation Accuracy:  0.924, Loss:  0.083\n",
      "Epoch   2 Batch  119/134 - Train Accuracy:  0.928, Validation Accuracy:  0.927, Loss:  0.076\n",
      "Epoch   2 Batch  120/134 - Train Accuracy:  0.911, Validation Accuracy:  0.924, Loss:  0.084\n",
      "Epoch   2 Batch  121/134 - Train Accuracy:  0.920, Validation Accuracy:  0.930, Loss:  0.078\n",
      "Epoch   2 Batch  122/134 - Train Accuracy:  0.905, Validation Accuracy:  0.926, Loss:  0.082\n",
      "Epoch   2 Batch  123/134 - Train Accuracy:  0.924, Validation Accuracy:  0.926, Loss:  0.074\n",
      "Epoch   2 Batch  124/134 - Train Accuracy:  0.930, Validation Accuracy:  0.930, Loss:  0.074\n",
      "Epoch   2 Batch  125/134 - Train Accuracy:  0.934, Validation Accuracy:  0.929, Loss:  0.071\n",
      "Epoch   2 Batch  126/134 - Train Accuracy:  0.905, Validation Accuracy:  0.926, Loss:  0.080\n",
      "Epoch   2 Batch  127/134 - Train Accuracy:  0.906, Validation Accuracy:  0.924, Loss:  0.077\n",
      "Epoch   2 Batch  128/134 - Train Accuracy:  0.914, Validation Accuracy:  0.930, Loss:  0.083\n",
      "Epoch   2 Batch  129/134 - Train Accuracy:  0.916, Validation Accuracy:  0.932, Loss:  0.081\n",
      "Epoch   2 Batch  130/134 - Train Accuracy:  0.922, Validation Accuracy:  0.934, Loss:  0.072\n",
      "Epoch   2 Batch  131/134 - Train Accuracy:  0.903, Validation Accuracy:  0.932, Loss:  0.081\n",
      "Epoch   2 Batch  132/134 - Train Accuracy:  0.917, Validation Accuracy:  0.925, Loss:  0.069\n",
      "Model Trained and Saved\n"
     ]
    }
   ],
   "source": [
    "\"\"\"\n",
    "DON'T MODIFY ANYTHING IN THIS CELL\n",
    "\"\"\"\n",
    "import time\n",
    "\n",
    "def get_accuracy(target, logits):\n",
    "    \"\"\"\n",
    "    Calculate accuracy\n",
    "    \"\"\"\n",
    "    max_seq = max(target.shape[1], logits.shape[1])\n",
    "    if max_seq - target.shape[1]:\n",
    "        target = np.pad(\n",
    "            target,\n",
    "            [(0,0),(0,max_seq - target.shape[1])],\n",
    "            'constant')\n",
    "    if max_seq - logits.shape[1]:\n",
    "        logits = np.pad(\n",
    "            logits,\n",
    "            [(0,0),(0,max_seq - logits.shape[1]), (0,0)],\n",
    "            'constant')\n",
    "\n",
    "    return np.mean(np.equal(target, np.argmax(logits, 2)))\n",
    "\n",
    "train_source = source_int_text[batch_size:]\n",
    "train_target = target_int_text[batch_size:]\n",
    "\n",
    "valid_source = helper.pad_sentence_batch(source_int_text[:batch_size])\n",
    "valid_target = helper.pad_sentence_batch(target_int_text[:batch_size])\n",
    "\n",
    "with tf.Session(graph=train_graph) as sess:\n",
    "    sess.run(tf.global_variables_initializer())\n",
    "\n",
    "    for epoch_i in range(epochs):\n",
    "        for batch_i, (source_batch, target_batch) in enumerate(\n",
    "                helper.batch_data(train_source, train_target, batch_size)):\n",
    "            start_time = time.time()\n",
    "            \n",
    "            _, loss = sess.run(\n",
    "                [train_op, cost],\n",
    "                {input_data: source_batch,\n",
    "                 targets: target_batch,\n",
    "                 lr: learning_rate,\n",
    "                 sequence_length: target_batch.shape[1],\n",
    "                 keep_prob: keep_probability})\n",
    "            \n",
    "            batch_train_logits = sess.run(\n",
    "                inference_logits,\n",
    "                {input_data: source_batch, keep_prob: 1.0})\n",
    "            batch_valid_logits = sess.run(\n",
    "                inference_logits,\n",
    "                {input_data: valid_source, keep_prob: 1.0})\n",
    "                \n",
    "            train_acc = get_accuracy(target_batch, batch_train_logits)\n",
    "            valid_acc = get_accuracy(np.array(valid_target), batch_valid_logits)\n",
    "            end_time = time.time()\n",
    "            print('Epoch {:>3} Batch {:>4}/{} - Train Accuracy: {:>6.3f}, Validation Accuracy: {:>6.3f}, Loss: {:>6.3f}'\n",
    "                  .format(epoch_i, batch_i, len(source_int_text) // batch_size, train_acc, valid_acc, loss))\n",
    "\n",
    "    # Save Model\n",
    "    saver = tf.train.Saver()\n",
    "    saver.save(sess, save_path)\n",
    "    print('Model Trained and Saved')"
   ]
  },
  {
   "cell_type": "markdown",
   "metadata": {
    "deletable": true,
    "editable": true
   },
   "source": [
    "### Save Parameters\n",
    "Save the `batch_size` and `save_path` parameters for inference."
   ]
  },
  {
   "cell_type": "code",
   "execution_count": 48,
   "metadata": {
    "collapsed": false,
    "deletable": true,
    "editable": true
   },
   "outputs": [],
   "source": [
    "\"\"\"\n",
    "DON'T MODIFY ANYTHING IN THIS CELL\n",
    "\"\"\"\n",
    "# Save parameters for checkpoint\n",
    "helper.save_params(save_path)"
   ]
  },
  {
   "cell_type": "markdown",
   "metadata": {
    "deletable": true,
    "editable": true
   },
   "source": [
    "# Checkpoint"
   ]
  },
  {
   "cell_type": "code",
   "execution_count": 49,
   "metadata": {
    "collapsed": false,
    "deletable": true,
    "editable": true
   },
   "outputs": [],
   "source": [
    "\"\"\"\n",
    "DON'T MODIFY ANYTHING IN THIS CELL\n",
    "\"\"\"\n",
    "import tensorflow as tf\n",
    "import numpy as np\n",
    "import helper\n",
    "import problem_unittests as tests\n",
    "\n",
    "_, (source_vocab_to_int, target_vocab_to_int), (source_int_to_vocab, target_int_to_vocab) = helper.load_preprocess()\n",
    "load_path = helper.load_params()"
   ]
  },
  {
   "cell_type": "markdown",
   "metadata": {
    "deletable": true,
    "editable": true
   },
   "source": [
    "## Sentence to Sequence\n",
    "To feed a sentence into the model for translation, you first need to preprocess it.  Implement the function `sentence_to_seq()` to preprocess new sentences.\n",
    "\n",
    "- Convert the sentence to lowercase\n",
    "- Convert words into ids using `vocab_to_int`\n",
    " - Convert words not in the vocabulary, to the `<UNK>` word id."
   ]
  },
  {
   "cell_type": "code",
   "execution_count": 54,
   "metadata": {
    "collapsed": false,
    "deletable": true,
    "editable": true
   },
   "outputs": [
    {
     "name": "stdout",
     "output_type": "stream",
     "text": [
      "Tests Passed\n"
     ]
    }
   ],
   "source": [
    "def sentence_to_seq(sentence, vocab_to_int):\n",
    "    \"\"\"\n",
    "    Convert a sentence to a sequence of ids\n",
    "    :param sentence: String\n",
    "    :param vocab_to_int: Dictionary to go from the words to an id\n",
    "    :return: List of word ids\n",
    "    \"\"\"\n",
    "    \n",
    "    # Convert words not in the vocab to <UNK>\n",
    "    convert_to_unk = vocab_to_int['<UNK>']\n",
    "    # Convert words to ids using vocab_to_int + make lowercase + split sentence into words\n",
    "    return [vocab_to_int.get(word, convert_to_unk) for word in sentence.lower().split()]\n",
    "\n",
    "\n",
    "\"\"\"\n",
    "DON'T MODIFY ANYTHING IN THIS CELL THAT IS BELOW THIS LINE\n",
    "\"\"\"\n",
    "tests.test_sentence_to_seq(sentence_to_seq)"
   ]
  },
  {
   "cell_type": "markdown",
   "metadata": {
    "deletable": true,
    "editable": true
   },
   "source": [
    "## Translate\n",
    "This will translate `translate_sentence` from English to French."
   ]
  },
  {
   "cell_type": "code",
   "execution_count": 60,
   "metadata": {
    "collapsed": false,
    "deletable": true,
    "editable": true
   },
   "outputs": [
    {
     "name": "stdout",
     "output_type": "stream",
     "text": [
      "Input\n",
      "  Word Ids:      [209, 142, 171, 148, 44, 152, 230]\n",
      "  English Words: ['he', 'saw', 'a', 'old', 'yellow', 'truck', '.']\n",
      "\n",
      "Prediction\n",
      "  Word Ids:      [354, 154, 52, 270, 67, 206, 0, 0, 0, 0, 0, 0, 0, 0, 0, 0, 0, 0]\n",
      "  French Words: ['il', 'a', 'vu', 'un', 'vieux', 'camion', '<PAD>', '<PAD>', '<PAD>', '<PAD>', '<PAD>', '<PAD>', '<PAD>', '<PAD>', '<PAD>', '<PAD>', '<PAD>', '<PAD>']\n"
     ]
    }
   ],
   "source": [
    "translate_sentence = 'he saw a old yellow truck .'\n",
    "\n",
    "\n",
    "\"\"\"\n",
    "DON'T MODIFY ANYTHING IN THIS CELL\n",
    "\"\"\"\n",
    "translate_sentence = sentence_to_seq(translate_sentence, source_vocab_to_int)\n",
    "\n",
    "loaded_graph = tf.Graph()\n",
    "with tf.Session(graph=loaded_graph) as sess:\n",
    "    # Load saved model\n",
    "    loader = tf.train.import_meta_graph(load_path + '.meta')\n",
    "    loader.restore(sess, load_path)\n",
    "\n",
    "    input_data = loaded_graph.get_tensor_by_name('input:0')\n",
    "    logits = loaded_graph.get_tensor_by_name('logits:0')\n",
    "    keep_prob = loaded_graph.get_tensor_by_name('keep_prob:0')\n",
    "\n",
    "    translate_logits = sess.run(logits, {input_data: [translate_sentence], keep_prob: 1.0})[0]\n",
    "\n",
    "print('Input')\n",
    "print('  Word Ids:      {}'.format([i for i in translate_sentence]))\n",
    "print('  English Words: {}'.format([source_int_to_vocab[i] for i in translate_sentence]))\n",
    "\n",
    "print('\\nPrediction')\n",
    "print('  Word Ids:      {}'.format([i for i in np.argmax(translate_logits, 1)]))\n",
    "print('  French Words: {}'.format([target_int_to_vocab[i] for i in np.argmax(translate_logits, 1)]))"
   ]
  },
  {
   "cell_type": "markdown",
   "metadata": {
    "deletable": true,
    "editable": true
   },
   "source": [
    "## Imperfect Translation\n",
    "You might notice that some sentences translate better than others.  Since the dataset you're using only has a vocabulary of 227 English words of the thousands that you use, you're only going to see good results using these words.  For this project, you don't need a perfect translation. However, if you want to create a better translation model, you'll need better data.\n",
    "\n",
    "You can train on the [WMT10 French-English corpus](http://www.statmt.org/wmt10/training-giga-fren.tar).  This dataset has more vocabulary and richer in topics discussed.  However, this will take you days to train, so make sure you've a GPU and the neural network is performing well on dataset we provided.  Just make sure you play with the WMT10 corpus after you've submitted this project.\n",
    "## Submitting This Project\n",
    "When submitting this project, make sure to run all the cells before saving the notebook. Save the notebook file as \"dlnd_language_translation.ipynb\" and save it as a HTML file under \"File\" -> \"Download as\". Include the \"helper.py\" and \"problem_unittests.py\" files in your submission."
   ]
  },
  {
   "cell_type": "code",
   "execution_count": null,
   "metadata": {
    "collapsed": true
   },
   "outputs": [],
   "source": []
  }
 ],
 "metadata": {
  "kernelspec": {
   "display_name": "Python 3",
   "language": "python",
   "name": "python3"
  },
  "language_info": {
   "codemirror_mode": {
    "name": "ipython",
    "version": 3
   },
   "file_extension": ".py",
   "mimetype": "text/x-python",
   "name": "python",
   "nbconvert_exporter": "python",
   "pygments_lexer": "ipython3",
   "version": "3.5.2"
  },
  "widgets": {
   "state": {},
   "version": "1.1.2"
  }
 },
 "nbformat": 4,
 "nbformat_minor": 0
}
